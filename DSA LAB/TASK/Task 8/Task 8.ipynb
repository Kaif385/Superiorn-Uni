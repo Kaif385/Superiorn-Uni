{
 "cells": [
  {
   "cell_type": "code",
   "execution_count": 1,
   "id": "2e104dc2-f83e-4640-9a7e-980986788624",
   "metadata": {},
   "outputs": [
    {
     "name": "stdout",
     "output_type": "stream",
     "text": [
      "List Representation:\n",
      "0 => [1, 2]\n",
      "1 => [0, 3]\n",
      "2 => [0, 4]\n",
      "3 => [1]\n",
      "4 => [2]\n",
      "\n",
      "Matrix Representation:\n",
      "[0, 1, 1, 0, 0]\n",
      "[1, 0, 0, 1, 0]\n",
      "[1, 0, 0, 0, 1]\n",
      "[0, 1, 0, 0, 0]\n",
      "[0, 0, 1, 0, 0]\n"
     ]
    }
   ],
   "source": [
    "class Graph:\n",
    "    def __init__(self, vertices, is_directed=False):\n",
    "        self.vertices = vertices\n",
    "        self.is_directed = is_directed\n",
    "        self.list_repr = {v: [] for v in range(vertices)}\n",
    "        self.matrix_repr = [[0 for _ in range(vertices)] for _ in range(vertices)]\n",
    "\n",
    "    def add_edge(self, src, dest):\n",
    "        self.list_repr[src].append(dest)\n",
    "        self.matrix_repr[src][dest] = 1\n",
    "        if not self.is_directed:\n",
    "            self.list_repr[dest].append(src)\n",
    "            self.matrix_repr[dest][src] = 1\n",
    "\n",
    "    def remove_edge(self, src, dest):\n",
    "        if dest in self.list_repr[src]:\n",
    "            self.list_repr[src].remove(dest)\n",
    "        self.matrix_repr[src][dest] = 0\n",
    "        if not self.is_directed:\n",
    "            if src in self.list_repr[dest]:\n",
    "                self.list_repr[dest].remove(src)\n",
    "            self.matrix_repr[dest][src] = 0\n",
    "\n",
    "    def show(self):\n",
    "        print(\"List Representation:\")\n",
    "        for node in self.list_repr:\n",
    "            print(f\"{node} => {self.list_repr[node]}\")\n",
    "        print(\"\\nMatrix Representation:\")\n",
    "        for row in self.matrix_repr:\n",
    "            print(row)\n",
    "\n",
    "graph = Graph(5)\n",
    "graph.add_edge(0, 1)\n",
    "graph.add_edge(0, 2)\n",
    "graph.add_edge(1, 3)\n",
    "graph.add_edge(2, 4)\n",
    "graph.show()"
   ]
  },
  {
   "cell_type": "code",
   "execution_count": 2,
   "id": "2fb67a1f-34ab-46b0-b6e1-2b71ac354107",
   "metadata": {},
   "outputs": [
    {
     "name": "stdout",
     "output_type": "stream",
     "text": [
      "BFS Traversal: [0, 1, 2, 3, 4, 5]\n",
      "DFS Traversal: [0, 1, 3, 4, 2, 5]\n"
     ]
    }
   ],
   "source": [
    "from collections import deque\n",
    "\n",
    "class Graph:\n",
    "    def __init__(self, vertices, is_directed=False):\n",
    "        self.vertices = vertices\n",
    "        self.is_directed = is_directed\n",
    "        self.adjacency = {i: [] for i in range(vertices)}\n",
    "\n",
    "    def add_edge(self, u, v):\n",
    "        self.adjacency[u].append(v)\n",
    "        if not self.is_directed:\n",
    "            self.adjacency[v].append(u)\n",
    "\n",
    "    def bfs(self, source):\n",
    "        seen = set()\n",
    "        queue = deque([source])\n",
    "        order = []\n",
    "\n",
    "        while queue:\n",
    "            node = queue.popleft()\n",
    "            if node not in seen:\n",
    "                seen.add(node)\n",
    "                order.append(node)\n",
    "                queue.extend(self.adjacency[node])\n",
    "\n",
    "        return order\n",
    "\n",
    "    def dfs(self, node, seen=None):\n",
    "        if seen is None:\n",
    "            seen = set()\n",
    "        seen.add(node)\n",
    "        order = [node]\n",
    "\n",
    "        for neighbor in self.adjacency[node]:\n",
    "            if neighbor not in seen:\n",
    "                order += self.dfs(neighbor, seen)\n",
    "\n",
    "        return order\n",
    "\n",
    "    def show(self):\n",
    "        print(\"Graph Structure (Adjacency List):\")\n",
    "        for key, val in self.adjacency.items():\n",
    "            print(f\"{key} -> {val}\")\n",
    "\n",
    "graph = Graph(6)\n",
    "graph.add_edge(0, 1)\n",
    "graph.add_edge(0, 2)\n",
    "graph.add_edge(1, 3)\n",
    "graph.add_edge(1, 4)\n",
    "graph.add_edge(2, 5)\n",
    "\n",
    "print(\"BFS Traversal:\", graph.bfs(0))\n",
    "print(\"DFS Traversal:\", graph.dfs(0))"
   ]
  },
  {
   "cell_type": "code",
   "execution_count": 3,
   "id": "696a7e4a-80e3-456c-a519-edae3a70b24d",
   "metadata": {},
   "outputs": [
    {
     "name": "stdout",
     "output_type": "stream",
     "text": [
      "{'A': 0, 'B': 3, 'C': 1, 'D': 8}\n"
     ]
    }
   ],
   "source": [
    "import heapq\n",
    "\n",
    "def dijkstra(graph, start):\n",
    "   \n",
    "    distances = {node: float('inf') for node in graph}\n",
    "    distances[start] = 0\n",
    "    priority_queue = [(0, start)] \n",
    "\n",
    "    while priority_queue:\n",
    "        current_distance, current_node = heapq.heappop(priority_queue)\n",
    "\n",
    "        if current_distance > distances[current_node]:\n",
    "            continue\n",
    "\n",
    "        for neighbor, weight in graph[current_node].items():\n",
    "            distance = current_distance + weight\n",
    "\n",
    "            if distance < distances[neighbor]: \n",
    "                distances[neighbor] = distance\n",
    "                heapq.heappush(priority_queue, (distance, neighbor))\n",
    "\n",
    "    return distances\n",
    "\n",
    "graph = {\n",
    "    'A': {'B': 4, 'C': 1},\n",
    "    'B': {'A': 4, 'C': 2, 'D': 5},\n",
    "    'C': {'A': 1, 'B': 2, 'D': 8},\n",
    "    'D': {'B': 5, 'C': 8}\n",
    "}\n",
    "\n",
    "print(dijkstra(graph, 'A'))"
   ]
  },
  {
   "cell_type": "code",
   "execution_count": null,
   "id": "1590333c-f235-41e5-877b-e32fa41a79ce",
   "metadata": {},
   "outputs": [],
   "source": []
  }
 ],
 "metadata": {
  "kernelspec": {
   "display_name": "Python 3 (ipykernel)",
   "language": "python",
   "name": "python3"
  },
  "language_info": {
   "codemirror_mode": {
    "name": "ipython",
    "version": 3
   },
   "file_extension": ".py",
   "mimetype": "text/x-python",
   "name": "python",
   "nbconvert_exporter": "python",
   "pygments_lexer": "ipython3",
   "version": "3.11.7"
  }
 },
 "nbformat": 4,
 "nbformat_minor": 5
}
