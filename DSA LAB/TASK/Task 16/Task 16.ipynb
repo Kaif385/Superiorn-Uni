{
 "cells": [
  {
   "cell_type": "code",
   "execution_count": 1,
   "id": "4d771fb8-3f3f-4d38-b443-99b48a570923",
   "metadata": {},
   "outputs": [
    {
     "name": "stdout",
     "output_type": "stream",
     "text": [
      "DFS Recursive: ['A', 'B', 'D', 'E', 'F', 'C']\n",
      "DFS Iterative: ['A', 'B', 'D', 'E', 'F', 'C']\n",
      "BFS: ['A', 'B', 'C', 'D', 'E', 'F']\n"
     ]
    }
   ],
   "source": [
    "from collections import deque\n",
    "\n",
    "def dfs_recursive(graph, node, visited=None, result=None):\n",
    "    if visited is None:\n",
    "        visited = set()\n",
    "    if result is None:\n",
    "        result = []\n",
    "\n",
    "    if node not in visited:\n",
    "        visited.add(node)\n",
    "        result.append(node)\n",
    "        for neighbor in graph.get(node, []):\n",
    "            dfs_recursive(graph, neighbor, visited, result)\n",
    "\n",
    "    return result\n",
    "\n",
    "def dfs_iterative(graph, start):\n",
    "    visited = set()\n",
    "    stack = [start]\n",
    "    result = []\n",
    "\n",
    "    while stack:\n",
    "        node = stack.pop()\n",
    "        if node not in visited:\n",
    "            visited.add(node)\n",
    "            result.append(node)\n",
    "            stack.extend(reversed(graph.get(node, [])))\n",
    "\n",
    "    return result\n",
    "\n",
    "def bfs(graph, start):\n",
    "    visited = set()\n",
    "    queue = deque([start])\n",
    "    result = []\n",
    "\n",
    "    while queue:\n",
    "        node = queue.popleft()\n",
    "        if node not in visited:\n",
    "            visited.add(node)\n",
    "            result.append(node)\n",
    "            queue.extend(graph.get(node, []))\n",
    "\n",
    "    return result\n",
    "\n",
    "graph = {\n",
    "    'A': ['B', 'C'],\n",
    "    'B': ['D', 'E'],\n",
    "    'C': ['F'],\n",
    "    'D': [],\n",
    "    'E': ['F'],\n",
    "    'F': []\n",
    "}\n",
    "\n",
    "print(\"DFS Recursive:\", dfs_recursive(graph, 'A'))\n",
    "print(\"DFS Iterative:\", dfs_iterative(graph, 'A'))\n",
    "print(\"BFS:\", bfs(graph, 'A'))"
   ]
  },
  {
   "cell_type": "code",
   "execution_count": 2,
   "id": "36825a55-ce7e-4485-a67b-fc6ed025af3c",
   "metadata": {},
   "outputs": [
    {
     "name": "stdout",
     "output_type": "stream",
     "text": [
      "Shortest Path Distances: {'A': 0, 'B': 1, 'C': 3, 'D': 4}\n"
     ]
    }
   ],
   "source": [
    "import heapq\n",
    "\n",
    "def dijkstra_algorithm(graph, start):\n",
    "    \"\"\"Finds the shortest paths from start node using Dijkstra's algorithm.\"\"\"\n",
    "   \n",
    "    shortest_distances = {node: float('inf') for node in graph}\n",
    "    shortest_distances[start] = 0\n",
    "\n",
    "    priority_queue = [(0, start)]\n",
    "\n",
    "    while priority_queue:\n",
    "        current_distance, current_node = heapq.heappop(priority_queue)\n",
    "\n",
    "        if current_distance > shortest_distances[current_node]:\n",
    "            continue\n",
    "\n",
    "        for neighbor, weight in graph[current_node].items():\n",
    "            new_distance = current_distance + weight\n",
    "\n",
    "            if new_distance < shortest_distances[neighbor]:\n",
    "                shortest_distances[neighbor] = new_distance\n",
    "                heapq.heappush(priority_queue, (new_distance, neighbor))\n",
    "\n",
    "    return shortest_distances\n",
    "\n",
    "graph = {\n",
    "    'A': {'B': 1, 'C': 4},\n",
    "    'B': {'A': 1, 'C': 2, 'D': 5},\n",
    "    'C': {'A': 4, 'B': 2, 'D': 1},\n",
    "    'D': {'B': 5, 'C': 1}\n",
    "}\n",
    "\n",
    "print(\"Shortest Path Distances:\", dijkstra_algorithm(graph, 'A'))"
   ]
  },
  {
   "cell_type": "code",
   "execution_count": 4,
   "id": "4e5a70c1-0a46-4d32-bdb2-1c4d4598658e",
   "metadata": {},
   "outputs": [
    {
     "name": "stdout",
     "output_type": "stream",
     "text": [
      "Cycle in Undirected Graph: True\n"
     ]
    }
   ],
   "source": [
    "class UnionFind:\n",
    "    def __init__(self, n):\n",
    "        self.parent = {i: i for i in n}\n",
    "        self.rank = {i: 0 for i in n}\n",
    "\n",
    "    def find(self, node):\n",
    "        if self.parent[node] != node:\n",
    "            self.parent[node] = self.find(self.parent[node])\n",
    "        return self.parent[node]\n",
    "\n",
    "    def union(self, node1, node2):\n",
    "        root1 = self.find(node1)\n",
    "        root2 = self.find(node2)\n",
    "\n",
    "        if root1 != root2:\n",
    "            if self.rank[root1] > self.rank[root2]:\n",
    "                self.parent[root2] = root1\n",
    "            elif self.rank[root1] < self.rank[root2]:\n",
    "                self.parent[root1] = root2\n",
    "            else:\n",
    "                self.parent[root2] = root1\n",
    "                self.rank[root1] += 1\n",
    "        else:\n",
    "            return True  \n",
    "        return False\n",
    "\n",
    "def detect_cycle_undirected(graph):\n",
    "    uf = UnionFind(graph.keys())\n",
    "\n",
    "    for node in graph:\n",
    "        for neighbor in graph[node]:\n",
    "            if uf.union(node, neighbor):\n",
    "                return True \n",
    "    return False\n",
    "\n",
    "graph_undirected = {\n",
    "    'A': ['B', 'C'],\n",
    "    'B': ['A', 'D'],\n",
    "    'C': ['A', 'D'],\n",
    "    'D': ['B', 'C']\n",
    "}\n",
    "\n",
    "print(\"Cycle in Undirected Graph:\", detect_cycle_undirected(graph_undirected))"
   ]
  },
  {
   "cell_type": "code",
   "execution_count": 5,
   "id": "2524152b-ba4c-4b04-9aac-b633c031d42c",
   "metadata": {},
   "outputs": [
    {
     "name": "stdout",
     "output_type": "stream",
     "text": [
      "Cycle exists in the graph: True\n"
     ]
    }
   ],
   "source": [
    "def has_cycle(graph):\n",
    "    visited = set()\n",
    "    in_stack = set()\n",
    "\n",
    "    def explore(node):\n",
    "        if node in in_stack:\n",
    "            return True\n",
    "        if node in visited:\n",
    "            return False\n",
    "\n",
    "        visited.add(node)\n",
    "        in_stack.add(node)\n",
    "\n",
    "        for neighbor in graph.get(node, []):\n",
    "            if explore(neighbor):\n",
    "                return True\n",
    "\n",
    "        in_stack.remove(node)\n",
    "        return False\n",
    "\n",
    "    for node in graph:\n",
    "        if node not in visited and explore(node):\n",
    "            return True\n",
    "    return False\n",
    "\n",
    "graph = {\n",
    "    'A': ['B'],\n",
    "    'B': ['C'],\n",
    "    'C': ['A']\n",
    "}\n",
    "\n",
    "print(\"Cycle exists in the graph:\", has_cycle(graph))"
   ]
  },
  {
   "cell_type": "code",
   "execution_count": null,
   "id": "f592bc4a-0231-43db-9690-adb90ea3eeb0",
   "metadata": {},
   "outputs": [],
   "source": []
  }
 ],
 "metadata": {
  "kernelspec": {
   "display_name": "Python 3 (ipykernel)",
   "language": "python",
   "name": "python3"
  },
  "language_info": {
   "codemirror_mode": {
    "name": "ipython",
    "version": 3
   },
   "file_extension": ".py",
   "mimetype": "text/x-python",
   "name": "python",
   "nbconvert_exporter": "python",
   "pygments_lexer": "ipython3",
   "version": "3.11.7"
  }
 },
 "nbformat": 4,
 "nbformat_minor": 5
}
