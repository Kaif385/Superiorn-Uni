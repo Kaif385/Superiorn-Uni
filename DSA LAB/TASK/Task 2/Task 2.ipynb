{
 "cells": [
  {
   "cell_type": "code",
   "execution_count": 1,
   "id": "b2645588-025c-4026-9514-c7b5d38f1c50",
   "metadata": {},
   "outputs": [],
   "source": [
    "class ResizableArray:\n",
    "    def __init__(self, initial_capacity=2):\n",
    "        self.capacity = initial_capacity\n",
    "        self.length = 0\n",
    "        self.data = [None] * self.capacity\n",
    "\n",
    "    def _expand_capacity(self):\n",
    "        new_capacity = self.capacity * 2\n",
    "        new_data = [None] * new_capacity\n",
    "        for i in range(self.length):\n",
    "            new_data[i] = self.data[i]\n",
    "        self.data = new_data\n",
    "        self.capacity = new_capacity\n",
    "\n",
    "    def append(self, value):\n",
    "        if self.length == self.capacity:\n",
    "            self._expand_capacity()\n",
    "        self.data[self.length] = value\n",
    "        self.length += 1\n",
    "\n",
    "    def insert(self, index, value):\n",
    "        if index < 0 or index > self.length:\n",
    "            raise IndexError(\"Invalid index\")\n",
    "        if self.length == self.capacity:\n",
    "            self._expand_capacity()\n",
    "        for i in range(self.length, index, -1):\n",
    "            self.data[i] = self.data[i - 1]\n",
    "        self.data[index] = value\n",
    "        self.length += 1\n",
    "\n",
    "    def remove(self, index):\n",
    "        if index < 0 or index >= self.length:\n",
    "            raise IndexError(\"Invalid index\")\n",
    "        for i in range(index, self.length - 1):\n",
    "            self.data[i] = self.data[i + 1]\n",
    "        self.data[self.length - 1] = None\n",
    "        self.length -= 1\n",
    "\n",
    "    def find(self, value):\n",
    "        for i in range(self.length):\n",
    "            if self.data[i] == value:\n",
    "                return i\n",
    "        return -1\n",
    "\n",
    "    def show(self):\n",
    "        return [self.data[i] for i in range(self.length)]\n",
    "\n",
    "    def __str__(self):\n",
    "        return str(self.show())"
   ]
  },
  {
   "cell_type": "code",
   "execution_count": 2,
   "id": "62b2444b-dcc3-4297-b377-2f64571aa050",
   "metadata": {},
   "outputs": [
    {
     "name": "stdout",
     "output_type": "stream",
     "text": [
      "[15, 20]\n",
      "1\n",
      "[15, 20]\n"
     ]
    }
   ],
   "source": [
    "arr = ResizableArray()\n",
    "arr.append(10)\n",
    "arr.append(20)\n",
    "arr.insert(1, 15)\n",
    "arr.remove(0)\n",
    "print(arr)   \n",
    "print(arr.find(20))  \n",
    "print(arr.show())   "
   ]
  },
  {
   "cell_type": "code",
   "execution_count": 3,
   "id": "92d0f910-6c6a-4d81-af16-003c1b4ad5c5",
   "metadata": {},
   "outputs": [
    {
     "name": "stdout",
     "output_type": "stream",
     "text": [
      "Brute Force Result: ('abc', 3)\n",
      "Brute Force Execution Time: 0.000000 seconds\n",
      "Sliding Window Result: ('abc', 3)\n",
      "Sliding Window Execution Time: 0.000000 seconds\n"
     ]
    }
   ],
   "source": [
    "import time\n",
    "\n",
    "def longest_substring_brute_force(s):\n",
    "    max_length = 0\n",
    "    longest_substr = \"\"\n",
    "\n",
    "    for i in range(len(s)):\n",
    "        seen = set()\n",
    "        current_str = \"\"\n",
    "        for j in range(i, len(s)):\n",
    "            if s[j] in seen:\n",
    "                break\n",
    "            seen.add(s[j])\n",
    "            current_str += s[j]\n",
    "            if len(current_str) > max_length:\n",
    "                max_length = len(current_str)\n",
    "                longest_substr = current_str\n",
    "\n",
    "    return longest_substr, max_length\n",
    "\n",
    "def longest_substring_sliding_window(s):\n",
    "    seen = set()\n",
    "    left = 0\n",
    "    max_length = 0\n",
    "    longest_substr = \"\"\n",
    "\n",
    "    for right in range(len(s)):\n",
    "        while s[right] in seen:\n",
    "            seen.remove(s[left])\n",
    "            left += 1\n",
    "\n",
    "        seen.add(s[right])\n",
    "        if right - left + 1 > max_length:\n",
    "            max_length = right - left + 1\n",
    "            longest_substr = s[left:right + 1]\n",
    "\n",
    "    return longest_substr, max_length\n",
    "\n",
    "s = \"abcabcbb\"\n",
    "\n",
    "start = time.time()\n",
    "result_brute = longest_substring_brute_force(s)\n",
    "end = time.time()\n",
    "print(\"Brute Force Result:\", result_brute)\n",
    "print(\"Brute Force Execution Time: {:.6f} seconds\".format(end - start))\n",
    "\n",
    "start = time.time()\n",
    "result_window = longest_substring_sliding_window(s)\n",
    "end = time.time()\n",
    "print(\"Sliding Window Result:\", result_window)\n",
    "print(\"Sliding Window Execution Time: {:.6f} seconds\".format(end - start))"
   ]
  },
  {
   "cell_type": "code",
   "execution_count": 4,
   "id": "f5b36c8b-48a0-4703-a652-acb184f5c648",
   "metadata": {},
   "outputs": [
    {
     "name": "stdout",
     "output_type": "stream",
     "text": [
      "[7, 4, 1]\n",
      "[8, 5, 2]\n",
      "[9, 6, 3]\n"
     ]
    }
   ],
   "source": [
    "def rotate_matrix(matrix):\n",
    "    n = len(matrix)\n",
    "\n",
    "    for i in range(n):\n",
    "        for j in range(i + 1, n):\n",
    "            matrix[i][j], matrix[j][i] = matrix[j][i], matrix[i][j]\n",
    "\n",
    "    for i in range(n):\n",
    "        matrix[i].reverse()\n",
    "\n",
    "matrix = [\n",
    "    [1, 2, 3],\n",
    "    [4, 5, 6],\n",
    "    [7, 8, 9]\n",
    "]\n",
    "\n",
    "rotate_matrix(matrix)\n",
    "\n",
    "for row in matrix:\n",
    "    print(row)"
   ]
  },
  {
   "cell_type": "code",
   "execution_count": null,
   "id": "d493c9e1-25e8-45d3-9cac-2da5b112e881",
   "metadata": {},
   "outputs": [],
   "source": []
  }
 ],
 "metadata": {
  "kernelspec": {
   "display_name": "Python 3 (ipykernel)",
   "language": "python",
   "name": "python3"
  },
  "language_info": {
   "codemirror_mode": {
    "name": "ipython",
    "version": 3
   },
   "file_extension": ".py",
   "mimetype": "text/x-python",
   "name": "python",
   "nbconvert_exporter": "python",
   "pygments_lexer": "ipython3",
   "version": "3.11.7"
  }
 },
 "nbformat": 4,
 "nbformat_minor": 5
}
