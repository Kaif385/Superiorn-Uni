{
 "cells": [
  {
   "cell_type": "code",
   "execution_count": 1,
   "id": "a27a843b-be49-48df-94a2-5b19bf2b4a1c",
   "metadata": {},
   "outputs": [
    {
     "name": "stdout",
     "output_type": "stream",
     "text": [
      "Adjacency List:\n",
      "A: ['B']\n",
      "B: ['A']\n",
      "Adjacency Matrix:\n",
      "   A B\n",
      "A [1, 1]\n",
      "B [1, 0]\n"
     ]
    }
   ],
   "source": [
    "class Graph:\n",
    "    def __init__(self, directed=False):\n",
    "        self.directed = directed\n",
    "        self.adj_list = {}\n",
    "        self.vertices = []\n",
    "\n",
    "    def add_vertex(self, vertex):\n",
    "        if vertex not in self.adj_list:\n",
    "            self.adj_list[vertex] = []\n",
    "            self.vertices.append(vertex)\n",
    "\n",
    "    def add_edge(self, src, dest):\n",
    "        if src in self.adj_list and dest in self.adj_list:\n",
    "            self.adj_list[src].append(dest)\n",
    "            if not self.directed:\n",
    "                self.adj_list[dest].append(src)\n",
    "\n",
    "    def display_adj_list(self):\n",
    "        print(\"Adjacency List:\")\n",
    "        for vertex, edges in self.adj_list.items():\n",
    "            print(f\"{vertex}: {edges}\")\n",
    "\n",
    "    def display_adj_matrix(self):\n",
    "        print(\"Adjacency Matrix:\")\n",
    "        matrix = [[0] * len(self.vertices) for _ in self.vertices]\n",
    "        for i, vertex in enumerate(self.vertices):\n",
    "            for j, neighbor in enumerate(self.adj_list[vertex]):\n",
    "                matrix[i][self.vertices.index(neighbor)] = 1\n",
    "                if not self.directed:\n",
    "                    matrix[j][i] = 1\n",
    "        print(\"  \", \" \".join(self.vertices))\n",
    "        for i, row in enumerate(matrix):\n",
    "            print(self.vertices[i], row)\n",
    "\n",
    "g = Graph(directed=False)\n",
    "g.add_vertex(\"A\")\n",
    "g.add_vertex(\"B\")\n",
    "g.add_edge(\"A\", \"B\")\n",
    "\n",
    "g.display_adj_list()\n",
    "g.display_adj_matrix()"
   ]
  },
  {
   "cell_type": "code",
   "execution_count": 2,
   "id": "e7f649fa-cdf9-433d-823e-ca8ad3857228",
   "metadata": {},
   "outputs": [
    {
     "name": "stdout",
     "output_type": "stream",
     "text": [
      "BFS: [0, 1, 2, 3]\n"
     ]
    }
   ],
   "source": [
    "from collections import deque\n",
    "\n",
    "class Graph:\n",
    "    def __init__(self):\n",
    "        self.graph = {}\n",
    "\n",
    "    def add_edge(self, src, dest):\n",
    "        self.graph.setdefault(src, []).append(dest)\n",
    "        self.graph.setdefault(dest, []).append(src)\n",
    "\n",
    "    def bfs(self, start):\n",
    "        visited = set()\n",
    "        queue = deque([start])\n",
    "        order = []\n",
    "\n",
    "        while queue:\n",
    "            node = queue.popleft()\n",
    "            if node not in visited:\n",
    "                visited.add(node)\n",
    "                order.append(node)\n",
    "                queue.extend(neighbor for neighbor in self.graph[node] if neighbor not in visited)\n",
    "\n",
    "        return order\n",
    "\n",
    "g = Graph()\n",
    "g.add_edge(0, 1)\n",
    "g.add_edge(0, 2)\n",
    "g.add_edge(1, 3)\n",
    "g.add_edge(2, 3)\n",
    "\n",
    "print(\"BFS:\", g.bfs(0))"
   ]
  },
  {
   "cell_type": "code",
   "execution_count": 3,
   "id": "ffce40e6-f936-4f21-aa07-c9e2e07d9dd8",
   "metadata": {},
   "outputs": [
    {
     "name": "stdout",
     "output_type": "stream",
     "text": [
      "{'A': 0, 'B': 3, 'C': 1, 'D': 4}\n"
     ]
    }
   ],
   "source": [
    "import heapq\n",
    "\n",
    "class Graph:\n",
    "    def __init__(self):\n",
    "        self.graph = {}\n",
    "\n",
    "    def add_edge(self, src, dest, weight):\n",
    "        if src not in self.graph:\n",
    "            self.graph[src] = []\n",
    "        if dest not in self.graph:\n",
    "            self.graph[dest] = []\n",
    "        self.graph[src].append((dest, weight))\n",
    "        self.graph[dest].append((src, weight))\n",
    "\n",
    "    def dijkstra(self, start):\n",
    "        distances = {node: float('inf') for node in self.graph}\n",
    "        distances[start] = 0\n",
    "        pq = [(0, start)]\n",
    "        visited = set()\n",
    "\n",
    "        while pq:\n",
    "            dist, node = heapq.heappop(pq)\n",
    "\n",
    "            if node in visited:\n",
    "                continue\n",
    "            visited.add(node)\n",
    "\n",
    "            for neighbor, weight in self.graph[node]:\n",
    "                new_dist = dist + weight\n",
    "                if new_dist < distances[neighbor]:\n",
    "                    distances[neighbor] = new_dist\n",
    "                    heapq.heappush(pq, (new_dist, neighbor))\n",
    "\n",
    "        return distances\n",
    "\n",
    "g = Graph()\n",
    "g.add_edge(\"A\", \"B\", 4)\n",
    "g.add_edge(\"A\", \"C\", 1)\n",
    "g.add_edge(\"C\", \"B\", 2)\n",
    "g.add_edge(\"B\", \"D\", 1)\n",
    "\n",
    "print(g.dijkstra(\"A\"))"
   ]
  },
  {
   "cell_type": "code",
   "execution_count": null,
   "id": "b880bba9-5baf-41af-bff1-90263dc63e7e",
   "metadata": {},
   "outputs": [],
   "source": []
  }
 ],
 "metadata": {
  "kernelspec": {
   "display_name": "Python 3 (ipykernel)",
   "language": "python",
   "name": "python3"
  },
  "language_info": {
   "codemirror_mode": {
    "name": "ipython",
    "version": 3
   },
   "file_extension": ".py",
   "mimetype": "text/x-python",
   "name": "python",
   "nbconvert_exporter": "python",
   "pygments_lexer": "ipython3",
   "version": "3.11.7"
  }
 },
 "nbformat": 4,
 "nbformat_minor": 5
}
