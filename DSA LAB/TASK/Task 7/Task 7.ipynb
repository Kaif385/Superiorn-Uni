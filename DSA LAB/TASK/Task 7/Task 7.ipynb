{
 "cells": [
  {
   "cell_type": "code",
   "execution_count": 1,
   "id": "e0336e97-2336-47c9-a84e-35387eff1f24",
   "metadata": {},
   "outputs": [
    {
     "name": "stdout",
     "output_type": "stream",
     "text": [
      "Min root: 2\n",
      "Max root: 20\n"
     ]
    }
   ],
   "source": [
    "import heapq\n",
    "\n",
    "class CustomHeap:\n",
    "    def __init__(self, mode=\"min\"):\n",
    "        self.mode = mode\n",
    "        self.data = []\n",
    "\n",
    "    def push(self, item):\n",
    "        heapq.heappush(self.data, item if self.mode == \"min\" else -item)\n",
    "\n",
    "    def pop_root(self):\n",
    "        if not self.data:\n",
    "            return None\n",
    "        return heapq.heappop(self.data) if self.mode == \"min\" else -heapq.heappop(self.data)\n",
    "\n",
    "    def top(self):\n",
    "        if not self.data:\n",
    "            return None\n",
    "        return self.data[0] if self.mode == \"min\" else -self.data[0]\n",
    "\n",
    "    def build_heap(self, elements):\n",
    "        self.data = elements[:] if self.mode == \"min\" else [-x for x in elements]\n",
    "        heapq.heapify(self.data)\n",
    "\n",
    "h1 = CustomHeap(\"min\")\n",
    "for val in [10, 5, 20, 2]:\n",
    "    h1.push(val)\n",
    "print(\"Min root:\", h1.pop_root())\n",
    "\n",
    "h2 = CustomHeap(\"max\")\n",
    "for val in [10, 5, 20, 2]:\n",
    "    h2.push(val)\n",
    "print(\"Max root:\", h2.pop_root())"
   ]
  },
  {
   "cell_type": "code",
   "execution_count": 2,
   "id": "e47a1714-decb-4f18-b03c-62b2a0c48da2",
   "metadata": {},
   "outputs": [
    {
     "name": "stdout",
     "output_type": "stream",
     "text": [
      "Dequeued: Task B\n",
      "Next in line: Task C\n"
     ]
    }
   ],
   "source": [
    "import heapq\n",
    "\n",
    "class SimplePriorityQueue:\n",
    "    def __init__(self):\n",
    "        self.items = []\n",
    "\n",
    "    def add_task(self, task, priority):\n",
    "        heapq.heappush(self.items, (priority, task))\n",
    "\n",
    "    def remove_task(self):\n",
    "        if not self.items:\n",
    "            return None\n",
    "        _, task = heapq.heappop(self.items)\n",
    "        return task\n",
    "\n",
    "    def next_task(self):\n",
    "        if not self.items:\n",
    "            return None\n",
    "        return self.items[0][1]\n",
    "\n",
    "queue = SimplePriorityQueue()\n",
    "queue.add_task(\"Task A\", 3)\n",
    "queue.add_task(\"Task B\", 1)\n",
    "queue.add_task(\"Task C\", 2)\n",
    "\n",
    "print(\"Dequeued:\", queue.remove_task())\n",
    "print(\"Next in line:\", queue.next_task())"
   ]
  },
  {
   "cell_type": "code",
   "execution_count": 3,
   "id": "3b5ac3d9-19ae-488f-b1a5-a108cd29d06e",
   "metadata": {},
   "outputs": [
    {
     "name": "stdout",
     "output_type": "stream",
     "text": [
      "K Smallest: [3, 4, 7]\n",
      "K Largest: [20, 15]\n"
     ]
    }
   ],
   "source": [
    "import heapq\n",
    "\n",
    "class KElementsFinder:\n",
    "    def __init__(self, data):\n",
    "        self.data = data\n",
    "\n",
    "    def smallest_k(self, k):\n",
    "        return heapq.nsmallest(k, self.data)\n",
    "\n",
    "    def largest_k(self, k):\n",
    "        return heapq.nlargest(k, self.data)\n",
    "\n",
    "numbers = [10, 4, 3, 20, 15, 7]\n",
    "finder = KElementsFinder(numbers)\n",
    "\n",
    "print(\"K Smallest:\", finder.smallest_k(3))  \n",
    "print(\"K Largest:\", finder.largest_k(2))"
   ]
  },
  {
   "cell_type": "code",
   "execution_count": null,
   "id": "2a95d5f2-b472-488d-a85b-f55f2cd85ba9",
   "metadata": {},
   "outputs": [],
   "source": []
  }
 ],
 "metadata": {
  "kernelspec": {
   "display_name": "Python 3 (ipykernel)",
   "language": "python",
   "name": "python3"
  },
  "language_info": {
   "codemirror_mode": {
    "name": "ipython",
    "version": 3
   },
   "file_extension": ".py",
   "mimetype": "text/x-python",
   "name": "python",
   "nbconvert_exporter": "python",
   "pygments_lexer": "ipython3",
   "version": "3.11.7"
  }
 },
 "nbformat": 4,
 "nbformat_minor": 5
}
