{
 "cells": [
  {
   "cell_type": "markdown",
   "id": "0df3fdd6-4f3c-47ec-904e-f1b8ea0021a7",
   "metadata": {},
   "source": [
    "# Task 1"
   ]
  },
  {
   "cell_type": "code",
   "execution_count": 1,
   "id": "aad1faab-ea44-4aee-ae78-c8297ae53c74",
   "metadata": {},
   "outputs": [
    {
     "name": "stdout",
     "output_type": "stream",
     "text": [
      "55\n"
     ]
    }
   ],
   "source": [
    "def fib_memoization(n, memo=None):\n",
    "    if memo is None:\n",
    "        memo = {}\n",
    "    if n in memo:\n",
    "        return memo[n]\n",
    "    if n <= 1:\n",
    "        return n\n",
    "    \n",
    "    memo[n] = fib_memoization(n - 1, memo) + fib_memoization(n - 2, memo)\n",
    "    return memo[n]\n",
    "\n",
    "print(fib_memoization(10))"
   ]
  },
  {
   "cell_type": "code",
   "execution_count": 2,
   "id": "505923ef-2731-4156-8293-13de82a0f8a0",
   "metadata": {},
   "outputs": [
    {
     "name": "stdout",
     "output_type": "stream",
     "text": [
      "55\n"
     ]
    }
   ],
   "source": [
    "def fib_tabulation(n):\n",
    "    if n <= 1:\n",
    "        return n\n",
    "\n",
    "    dp = [0, 1]\n",
    "    dp.extend([0] * (n - 1))\n",
    "    \n",
    "    for i in range(2, n + 1):\n",
    "        dp[i] = dp[i - 1] + dp[i - 2]\n",
    "\n",
    "    return dp[n]\n",
    "\n",
    "print(fib_tabulation(10))"
   ]
  },
  {
   "cell_type": "code",
   "execution_count": 3,
   "id": "4654c122-91af-470e-9893-7c51b094e0d3",
   "metadata": {},
   "outputs": [
    {
     "name": "stdout",
     "output_type": "stream",
     "text": [
      "55\n"
     ]
    }
   ],
   "source": [
    "def fib_optimized(n):\n",
    "    if n <= 1:\n",
    "        return n\n",
    "\n",
    "    prev, current = 0, 1\n",
    "    for _ in range(2, n + 1):\n",
    "        prev, current = current, prev + current\n",
    "\n",
    "    return current\n",
    "\n",
    "print(fib_optimized(10))"
   ]
  },
  {
   "cell_type": "markdown",
   "id": "0e8d8482-94e7-4291-89fa-520e08abf41e",
   "metadata": {},
   "source": [
    "# Task 2"
   ]
  },
  {
   "cell_type": "code",
   "execution_count": 4,
   "id": "4d296f4e-74cb-4d69-9c44-961d8e7f0b1f",
   "metadata": {},
   "outputs": [
    {
     "name": "stdout",
     "output_type": "stream",
     "text": [
      "GTAB\n"
     ]
    }
   ],
   "source": [
    "def lcs_memo_helper(X, Y, m, n, memo):\n",
    "    if m == 0 or n == 0:\n",
    "        return \"\"\n",
    "    if (m, n) in memo:\n",
    "        return memo[(m, n)]\n",
    "\n",
    "    if X[m - 1] == Y[n - 1]:\n",
    "        memo[(m, n)] = lcs_memo_helper(X, Y, m - 1, n - 1, memo) + X[m - 1]\n",
    "    else:\n",
    "        option1 = lcs_memo_helper(X, Y, m, n - 1, memo)\n",
    "        option2 = lcs_memo_helper(X, Y, m - 1, n, memo)\n",
    "        memo[(m, n)] = option1 if len(option1) > len(option2) else option2\n",
    "\n",
    "    return memo[(m, n)]\n",
    "\n",
    "def lcs_memoization(X, Y):\n",
    "    return lcs_memo_helper(X, Y, len(X), len(Y), {})\n",
    "\n",
    "print(lcs_memoization(\"AGGTAB\", \"GXTXAYB\"))"
   ]
  },
  {
   "cell_type": "code",
   "execution_count": 5,
   "id": "b6925624-c0dd-420e-a033-5d6edff8d93b",
   "metadata": {},
   "outputs": [
    {
     "name": "stdout",
     "output_type": "stream",
     "text": [
      "GTAB\n"
     ]
    }
   ],
   "source": [
    "def lcs_tabulation(X, Y):\n",
    "    m, n = len(X), len(Y)\n",
    "    dp = [[\"\" for _ in range(n + 1)] for _ in range(m + 1)]\n",
    "\n",
    "    for i in range(1, m + 1):\n",
    "        for j in range(1, n + 1):\n",
    "            if X[i - 1] == Y[j - 1]:\n",
    "                dp[i][j] = dp[i - 1][j - 1] + X[i - 1]\n",
    "            else:\n",
    "                dp[i][j] = max(dp[i - 1][j], dp[i][j - 1], key=lambda x: len(x))\n",
    "\n",
    "    return dp[m][n]\n",
    "\n",
    "print(lcs_tabulation(\"AGGTAB\", \"GXTXAYB\"))"
   ]
  },
  {
   "cell_type": "markdown",
   "id": "380e5f4d-79e6-4574-89b7-439cc6180546",
   "metadata": {},
   "source": [
    "# Task 3"
   ]
  },
  {
   "cell_type": "code",
   "execution_count": 6,
   "id": "c8fe3df8-a7be-43f3-876e-ae2df461a3b5",
   "metadata": {},
   "outputs": [
    {
     "name": "stdout",
     "output_type": "stream",
     "text": [
      "7\n"
     ]
    }
   ],
   "source": [
    "def knapsack(weights, values, capacity):\n",
    "    n = len(weights)\n",
    "    dp = [[0] * (capacity + 1) for _ in range(n + 1)]\n",
    "\n",
    "    for i in range(1, n + 1):\n",
    "        for w in range(1, capacity + 1):\n",
    "            if weights[i - 1] <= w:\n",
    "                dp[i][w] = max(dp[i - 1][w], values[i - 1] + dp[i - 1][w - weights[i - 1]])\n",
    "            else:\n",
    "                dp[i][w] = dp[i - 1][w]\n",
    "\n",
    "    return dp[n][capacity]\n",
    "\n",
    "weights = [2, 3, 4, 5]\n",
    "values = [3, 4, 5, 6]\n",
    "capacity = 5\n",
    "print(knapsack(weights, values, capacity))"
   ]
  },
  {
   "cell_type": "code",
   "execution_count": 7,
   "id": "413206d6-34f2-43a5-b776-1975f033ccbe",
   "metadata": {},
   "outputs": [
    {
     "name": "stdout",
     "output_type": "stream",
     "text": [
      "7\n"
     ]
    }
   ],
   "source": [
    "def knapsack_optimized(weights, values, capacity):\n",
    "    dp = [0] * (capacity + 1)\n",
    "\n",
    "    for i in range(len(weights)):\n",
    "        for w in range(capacity, weights[i] - 1, -1):\n",
    "            dp[w] = max(dp[w], values[i] + dp[w - weights[i]])\n",
    "\n",
    "    return dp[capacity]\n",
    "\n",
    "print(knapsack_optimized(weights, values, capacity))"
   ]
  },
  {
   "cell_type": "code",
   "execution_count": null,
   "id": "58c09b33-8c6a-44aa-a45f-e9942cf40fef",
   "metadata": {},
   "outputs": [],
   "source": []
  }
 ],
 "metadata": {
  "kernelspec": {
   "display_name": "Python 3 (ipykernel)",
   "language": "python",
   "name": "python3"
  },
  "language_info": {
   "codemirror_mode": {
    "name": "ipython",
    "version": 3
   },
   "file_extension": ".py",
   "mimetype": "text/x-python",
   "name": "python",
   "nbconvert_exporter": "python",
   "pygments_lexer": "ipython3",
   "version": "3.11.7"
  }
 },
 "nbformat": 4,
 "nbformat_minor": 5
}
