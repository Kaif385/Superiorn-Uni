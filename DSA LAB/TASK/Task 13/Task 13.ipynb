{
 "cells": [
  {
   "cell_type": "code",
   "execution_count": 1,
   "id": "30c31104-8070-45ee-b6d5-3ae5e3c861bd",
   "metadata": {},
   "outputs": [
    {
     "name": "stdout",
     "output_type": "stream",
     "text": [
      "[(1, 3), (6, 8), (8, 11)]\n"
     ]
    }
   ],
   "source": [
    "def activity_selection(activities):\n",
    "    activities.sort(key=lambda x: x[1])\n",
    "\n",
    "    selected = []\n",
    "    last_end = 0\n",
    "\n",
    "    for activity in activities:\n",
    "        if activity[0] >= last_end:\n",
    "            selected.append(activity)\n",
    "            last_end = activity[1]\n",
    "\n",
    "    return selected\n",
    "\n",
    "activities = [(1, 3), (2, 5), (3, 9), (6, 8), (8, 11)]\n",
    "print(activity_selection(activities))"
   ]
  },
  {
   "cell_type": "code",
   "execution_count": 2,
   "id": "0654cfe6-fbe9-4255-b797-c39085adc15d",
   "metadata": {},
   "outputs": [
    {
     "name": "stdout",
     "output_type": "stream",
     "text": [
      "Huffman Codes: {'l': '00', 'e': '01', 'y': '100', 'r': '1010', 'g': '1011', 'd': '1100', ' ': '1101', 'h': '1110', 'o': '1111'}\n",
      "Encoded Text: 1110010000111111011011101001011100100\n"
     ]
    }
   ],
   "source": [
    "import heapq\n",
    "from collections import Counter\n",
    "\n",
    "class HuffmanNode:\n",
    "    def __init__(self, char, freq):\n",
    "        self.char = char\n",
    "        self.freq = freq\n",
    "        self.left = None\n",
    "        self.right = None\n",
    "\n",
    "    def __lt__(self, other):\n",
    "        return self.freq < other.freq\n",
    "\n",
    "def build_tree(text):\n",
    "    freq = Counter(text)\n",
    "    heap = [HuffmanNode(char, count) for char, count in freq.items()]\n",
    "    heapq.heapify(heap)\n",
    "\n",
    "    while len(heap) > 1:\n",
    "        left = heapq.heappop(heap)\n",
    "        right = heapq.heappop(heap)\n",
    "        merged = HuffmanNode(None, left.freq + right.freq)\n",
    "        merged.left, merged.right = left, right\n",
    "        heapq.heappush(heap, merged)\n",
    "\n",
    "    return heap[0]\n",
    "\n",
    "def generate_codes(node, prefix=\"\", codes_dict={}):\n",
    "    if node is None:\n",
    "        return\n",
    "\n",
    "    if node.char is not None:\n",
    "        codes_dict[node.char] = prefix\n",
    "\n",
    "    generate_codes(node.left, prefix + \"0\", codes_dict)\n",
    "    generate_codes(node.right, prefix + \"1\", codes_dict)\n",
    "\n",
    "    return codes_dict\n",
    "\n",
    "def encode_text(text):\n",
    "    root = build_tree(text)\n",
    "    codes = generate_codes(root)\n",
    "    encoded = \"\".join(codes[char] for char in text)\n",
    "    return codes, encoded\n",
    "\n",
    "text = \"hello greedy\"\n",
    "codes, encoded_text = encode_text(text)\n",
    "print(\"Huffman Codes:\", codes)\n",
    "print(\"Encoded Text:\", encoded_text)"
   ]
  },
  {
   "cell_type": "code",
   "execution_count": 3,
   "id": "3c5dc852-7a22-4ef6-925d-902f5381e3c3",
   "metadata": {},
   "outputs": [
    {
     "name": "stdout",
     "output_type": "stream",
     "text": [
      "[(2, 3, 1), (3, 4, 2), (1, 3, 3)]\n"
     ]
    }
   ],
   "source": [
    "class DisjointSet:\n",
    "    def __init__(self, vertices):\n",
    "        self.parent = {v: v for v in vertices}\n",
    "        self.rank = {v: 0 for v in vertices}\n",
    "\n",
    "    def find(self, vertex):\n",
    "        if self.parent[vertex] != vertex:\n",
    "            self.parent[vertex] = self.find(self.parent[vertex])\n",
    "        return self.parent[vertex]\n",
    "\n",
    "    def union(self, u, v):\n",
    "        root_u = self.find(u)\n",
    "        root_v = self.find(v)\n",
    "\n",
    "        if root_u != root_v:\n",
    "            if self.rank[root_u] > self.rank[root_v]:\n",
    "                self.parent[root_v] = root_u\n",
    "            elif self.rank[root_u] < self.rank[root_v]:\n",
    "                self.parent[root_u] = root_v\n",
    "            else:\n",
    "                self.parent[root_v] = root_u\n",
    "                self.rank[root_u] += 1\n",
    "\n",
    "def kruskal_algorithm(edges, num_vertices):\n",
    "    edges.sort(key=lambda edge: edge[2])\n",
    "    mst = []\n",
    "    disjoint_set = DisjointSet(range(1, num_vertices + 1))\n",
    "\n",
    "    for u, v, weight in edges:\n",
    "        if disjoint_set.find(u) != disjoint_set.find(v):\n",
    "            disjoint_set.union(u, v)\n",
    "            mst.append((u, v, weight))\n",
    "\n",
    "        if len(mst) == num_vertices - 1:\n",
    "            break\n",
    "\n",
    "    return mst\n",
    "\n",
    "edges = [(1, 2, 4), (2, 3, 1), (1, 3, 3), (3, 4, 2)]\n",
    "print(kruskal_algorithm(edges, 4))"
   ]
  },
  {
   "cell_type": "code",
   "execution_count": null,
   "id": "d76e124f-7134-49e8-83ad-e6f75e8c213d",
   "metadata": {},
   "outputs": [],
   "source": []
  }
 ],
 "metadata": {
  "kernelspec": {
   "display_name": "Python 3 (ipykernel)",
   "language": "python",
   "name": "python3"
  },
  "language_info": {
   "codemirror_mode": {
    "name": "ipython",
    "version": 3
   },
   "file_extension": ".py",
   "mimetype": "text/x-python",
   "name": "python",
   "nbconvert_exporter": "python",
   "pygments_lexer": "ipython3",
   "version": "3.11.7"
  }
 },
 "nbformat": 4,
 "nbformat_minor": 5
}
