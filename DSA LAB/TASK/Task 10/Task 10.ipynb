{
 "cells": [
  {
   "cell_type": "markdown",
   "id": "f4349cfe-10a5-4d8f-b4cf-ef8f930d4897",
   "metadata": {},
   "source": [
    "# Task 1"
   ]
  },
  {
   "cell_type": "code",
   "execution_count": 2,
   "id": "55b0d1d7-d75b-4b20-b4d1-f2359ce01181",
   "metadata": {},
   "outputs": [
    {
     "name": "stdout",
     "output_type": "stream",
     "text": [
      "2\n"
     ]
    }
   ],
   "source": [
    "def find_index(arr, target):\n",
    "    for i in range(len(arr)):\n",
    "        if arr[i] == target:\n",
    "            return i\n",
    "    return -1  \n",
    "\n",
    "arr = [10, 23, 45, 70, 11, 15]\n",
    "print(find_index(arr, 45))"
   ]
  },
  {
   "cell_type": "code",
   "execution_count": 3,
   "id": "88a98f21-a5bb-4cc4-99b6-228cc0d5c437",
   "metadata": {},
   "outputs": [
    {
     "name": "stdout",
     "output_type": "stream",
     "text": [
      "3\n"
     ]
    }
   ],
   "source": [
    "def search_in_sorted(arr, target):\n",
    "    low, high = 0, len(arr) - 1\n",
    "    while low <= high:\n",
    "        middle = (low + high) // 2\n",
    "        if arr[middle] == target:\n",
    "            return middle\n",
    "        elif arr[middle] < target:\n",
    "            low = middle + 1\n",
    "        else:\n",
    "            high = middle - 1\n",
    "    return -1 \n",
    "\n",
    "sorted_list = [10, 15, 23, 45, 70]\n",
    "print(search_in_sorted(sorted_list, 45))"
   ]
  },
  {
   "cell_type": "code",
   "execution_count": 4,
   "id": "818677d7-1193-40cc-8d2f-8769500d6b9c",
   "metadata": {},
   "outputs": [
    {
     "name": "stdout",
     "output_type": "stream",
     "text": [
      "Size: 1000 | Linear Search Time: 0.000000 sec | Binary Search Time: 0.000000 sec\n",
      "Size: 5000 | Linear Search Time: 0.000000 sec | Binary Search Time: 0.000000 sec\n",
      "Size: 10000 | Linear Search Time: 0.000998 sec | Binary Search Time: 0.000000 sec\n"
     ]
    }
   ],
   "source": [
    "import random\n",
    "import time\n",
    "\n",
    "def linear_search(arr, target):\n",
    "    for i in range(len(arr)):\n",
    "        if arr[i] == target:\n",
    "            return i\n",
    "    return -1\n",
    "\n",
    "def binary_search(arr, target):\n",
    "    left, right = 0, len(arr) - 1\n",
    "    while left <= right:\n",
    "        mid = (left + right) // 2\n",
    "        if arr[mid] == target:\n",
    "            return mid\n",
    "        elif arr[mid] < target:\n",
    "            left = mid + 1\n",
    "        else:\n",
    "            right = mid - 1\n",
    "    return -1\n",
    "\n",
    "def generate_random_list(size):\n",
    "    return [random.randint(0, 100000) for _ in range(size)]\n",
    "\n",
    "def compare_performance():\n",
    "    sizes = [1000, 5000, 10000]\n",
    "\n",
    "    for size in sizes:\n",
    "        arr = generate_random_list(size)\n",
    "        sorted_arr = sorted(arr)  \n",
    "\n",
    "        target = arr[random.randint(0, size - 1)]  \n",
    "\n",
    "        start_time = time.time()\n",
    "        linear_search(arr, target)\n",
    "        linear_time = time.time() - start_time\n",
    "\n",
    "        start_time = time.time()\n",
    "        binary_search(sorted_arr, target)\n",
    "        binary_time = time.time() - start_time\n",
    "\n",
    "        print(f\"Size: {size} | Linear Search Time: {linear_time:.6f} sec | Binary Search Time: {binary_time:.6f} sec\")\n",
    "\n",
    "compare_performance()"
   ]
  },
  {
   "cell_type": "markdown",
   "id": "068eb7ad-4466-4949-9750-b3ef0fe0bbdc",
   "metadata": {},
   "source": [
    "# Task 2"
   ]
  },
  {
   "cell_type": "code",
   "execution_count": 5,
   "id": "fb39b562-7994-43ac-bd4a-a7a1858ecac0",
   "metadata": {},
   "outputs": [
    {
     "name": "stdout",
     "output_type": "stream",
     "text": [
      "3\n"
     ]
    }
   ],
   "source": [
    "import math\n",
    "\n",
    "def jump_search_modified(arr, target):\n",
    "    length = len(arr)\n",
    "    block_size = int(math.sqrt(length))  \n",
    "    start = 0\n",
    "\n",
    "    while arr[min(block_size, length) - 1] < target:\n",
    "        start = block_size\n",
    "        block_size += int(math.sqrt(length))\n",
    "        if start >= length:\n",
    "            return -1 \n",
    "\n",
    "    for i in range(start, min(block_size, length)):\n",
    "        if arr[i] == target:\n",
    "            return i \n",
    "    return -1  \n",
    "\n",
    "arr_example = [1, 3, 5, 7, 9, 11, 13, 15]\n",
    "print(jump_search_modified(arr_example, 7))"
   ]
  },
  {
   "cell_type": "code",
   "execution_count": 6,
   "id": "fd2e832e-8b5c-4011-95f2-5fe24328cfce",
   "metadata": {},
   "outputs": [
    {
     "name": "stdout",
     "output_type": "stream",
     "text": [
      "3\n"
     ]
    }
   ],
   "source": [
    "def interpolation_search(arr, target):\n",
    "    low, high = 0, len(arr) - 1\n",
    "\n",
    "    while low <= high and target >= arr[low] and target <= arr[high]:\n",
    "        if low == high:\n",
    "            return low if arr[low] == target else -1\n",
    "\n",
    "        pos = low + int(((target - arr[low]) * (high - low)) / (arr[high] - arr[low]))\n",
    "\n",
    "        if arr[pos] == target:\n",
    "            return pos\n",
    "        elif arr[pos] < target:\n",
    "            low = pos + 1\n",
    "        else:\n",
    "            high = pos - 1\n",
    "\n",
    "    return -1 \n",
    "\n",
    "\n",
    "arr = [1, 3, 5, 7, 9, 11, 13, 15]\n",
    "print(interpolation_search(arr, 7))"
   ]
  },
  {
   "cell_type": "code",
   "execution_count": 7,
   "id": "82dc26f8-f129-4427-99fa-b9cc0bb802ec",
   "metadata": {},
   "outputs": [
    {
     "name": "stdout",
     "output_type": "stream",
     "text": [
      "Size: 1000 | Jump Search: 0.000000 sec | Interpolation Search: 0.000000 sec | Binary Search: 0.000000 sec\n",
      "Size: 5000 | Jump Search: 0.000000 sec | Interpolation Search: 0.000000 sec | Binary Search: 0.000000 sec\n",
      "Size: 10000 | Jump Search: 0.000000 sec | Interpolation Search: 0.000000 sec | Binary Search: 0.000000 sec\n"
     ]
    }
   ],
   "source": [
    "import random\n",
    "import time\n",
    "\n",
    "def binary_search(arr, target):\n",
    "    left, right = 0, len(arr) - 1\n",
    "    while left <= right:\n",
    "        mid = (left + right) // 2\n",
    "        if arr[mid] == target:\n",
    "            return mid  \n",
    "        elif arr[mid] < target:\n",
    "            left = mid + 1\n",
    "        else:\n",
    "            right = mid - 1\n",
    "    return -1 \n",
    "\n",
    "def jump_search(arr, target):\n",
    "    n = len(arr)\n",
    "    step = int(math.sqrt(n))  \n",
    "    prev = 0\n",
    "\n",
    "    while arr[min(step, n) - 1] < target:\n",
    "        prev = step\n",
    "        step += int(math.sqrt(n))\n",
    "        if prev >= n:\n",
    "            return -1 \n",
    "\n",
    "    for i in range(prev, min(step, n)):\n",
    "        if arr[i] == target:\n",
    "            return i \n",
    "    return -1  \n",
    "\n",
    "def interpolation_search(arr, target):\n",
    "    low, high = 0, len(arr) - 1\n",
    "\n",
    "    while low <= high and target >= arr[low] and target <= arr[high]:\n",
    "        if low == high:\n",
    "            return low if arr[low] == target else -1\n",
    "\n",
    "        pos = low + int(((target - arr[low]) * (high - low)) / (arr[high] - arr[low]))\n",
    "\n",
    "        if arr[pos] == target:\n",
    "            return pos\n",
    "        elif arr[pos] < target:\n",
    "            low = pos + 1\n",
    "        else:\n",
    "            high = pos - 1\n",
    "\n",
    "    return -1 \n",
    "\n",
    "def generate_sorted_list(size):\n",
    "    return sorted(random.sample(range(1, 100000), size))\n",
    "\n",
    "def compare_search_algorithms():\n",
    "    sizes = [1000, 5000, 10000]\n",
    "\n",
    "    for size in sizes:\n",
    "        arr = generate_sorted_list(size)\n",
    "        target = arr[random.randint(0, size - 1)] \n",
    "\n",
    "        start_time = time.time()\n",
    "        jump_search(arr, target)\n",
    "        jump_time = time.time() - start_time\n",
    "\n",
    "        start_time = time.time()\n",
    "        interpolation_search(arr, target)\n",
    "        interpolation_time = time.time() - start_time\n",
    "\n",
    "        start_time = time.time()\n",
    "        binary_search(arr, target)\n",
    "        binary_time = time.time() - start_time\n",
    "\n",
    "        print(f\"Size: {size} | Jump Search: {jump_time:.6f} sec | Interpolation Search: {interpolation_time:.6f} sec | Binary Search: {binary_time:.6f} sec\")\n",
    "\n",
    "compare_search_algorithms()"
   ]
  },
  {
   "cell_type": "markdown",
   "id": "79a1241b-3518-4aa1-b6bb-1626cb639111",
   "metadata": {},
   "source": [
    "# Task 3"
   ]
  },
  {
   "cell_type": "code",
   "execution_count": 16,
   "id": "e5221bc5-6c2e-4136-ba5a-8c4d605e83f0",
   "metadata": {},
   "outputs": [
    {
     "name": "stdout",
     "output_type": "stream",
     "text": [
      "Size: 1000 | Exponential: 0.000000 sec | Fibonacci: 0.000000 sec | Binary: 0.000000 sec\n",
      "Size: 5000 | Exponential: 0.000000 sec | Fibonacci: 0.000000 sec | Binary: 0.000000 sec\n",
      "Size: 10000 | Exponential: 0.000000 sec | Fibonacci: 0.000000 sec | Binary: 0.000000 sec\n"
     ]
    }
   ],
   "source": [
    "import random\n",
    "import time\n",
    "\n",
    "def binary_search(arr, target):\n",
    "    left, right = 0, len(arr) - 1\n",
    "    while left <= right:\n",
    "        mid = (left + right) // 2\n",
    "        if arr[mid] == target:\n",
    "            return mid\n",
    "        elif arr[mid] < target:\n",
    "            left = mid + 1\n",
    "        else:\n",
    "            right = mid - 1\n",
    "    return -1\n",
    "\n",
    "def exponential_search(arr, target):\n",
    "    if len(arr) == 0:\n",
    "        return -1\n",
    "    if arr[0] == target:\n",
    "        return 0\n",
    "\n",
    "    n = len(arr)\n",
    "    i = 1\n",
    "    while i < n and arr[i] <= target:\n",
    "        i *= 2\n",
    "\n",
    "    return binary_search(arr[max(i//2, 0):min(i, n)], target)\n",
    "\n",
    "def fibonacci_search(arr, target):\n",
    "    n = len(arr)\n",
    "    fib_m2 = 0  # (m-2)'th Fibonacci number\n",
    "    fib_m1 = 1  # (m-1)'th Fibonacci number\n",
    "    fib_m = fib_m2 + fib_m1  # m'th Fibonacci number\n",
    "\n",
    "    while fib_m < n:\n",
    "        fib_m2, fib_m1 = fib_m1, fib_m\n",
    "        fib_m = fib_m2 + fib_m1\n",
    "\n",
    "    offset = -1\n",
    "\n",
    "    while fib_m > 1:\n",
    "        i = min(offset + fib_m2, n - 1)\n",
    "        if arr[i] < target:\n",
    "            fib_m, fib_m1, fib_m2 = fib_m1, fib_m2, fib_m1 - fib_m2\n",
    "            offset = i\n",
    "        elif arr[i] > target:\n",
    "            fib_m, fib_m1, fib_m2 = fib_m2, fib_m2 - fib_m1, fib_m1 - fib_m2\n",
    "        else:\n",
    "            return i\n",
    "\n",
    "    if fib_m1 and offset + 1 < n and arr[offset + 1] == target:\n",
    "        return offset + 1\n",
    "\n",
    "    return -1\n",
    "\n",
    "def generate_sorted_list(size):\n",
    "    return sorted(random.sample(range(1, 100000), size))\n",
    "\n",
    "def compare_search_algorithms():\n",
    "    sizes = [1000, 5000, 10000]\n",
    "\n",
    "    for size in sizes:\n",
    "        arr = generate_sorted_list(size)\n",
    "        target = arr[random.randint(0, size - 1)]  # Pick a random target\n",
    "\n",
    "        start_time = time.time()\n",
    "        exponential_search(arr, target)\n",
    "        exponential_time = time.time() - start_time\n",
    "\n",
    "        start_time = time.time()\n",
    "        fibonacci_search(arr, target)\n",
    "        fibonacci_time = time.time() - start_time\n",
    "\n",
    "        start_time = time.time()\n",
    "        binary_search(arr, target)\n",
    "        binary_time = time.time() - start_time\n",
    "\n",
    "        print(f\"Size: {size} | Exponential: {exponential_time:.6f} sec | Fibonacci: {fibonacci_time:.6f} sec | Binary: {binary_time:.6f} sec\")\n",
    "\n",
    "compare_search_algorithms()"
   ]
  },
  {
   "cell_type": "code",
   "execution_count": null,
   "id": "45427701-a53f-4f3b-9b87-2bc76958b47c",
   "metadata": {},
   "outputs": [],
   "source": []
  }
 ],
 "metadata": {
  "kernelspec": {
   "display_name": "Python 3 (ipykernel)",
   "language": "python",
   "name": "python3"
  },
  "language_info": {
   "codemirror_mode": {
    "name": "ipython",
    "version": 3
   },
   "file_extension": ".py",
   "mimetype": "text/x-python",
   "name": "python",
   "nbconvert_exporter": "python",
   "pygments_lexer": "ipython3",
   "version": "3.11.7"
  }
 },
 "nbformat": 4,
 "nbformat_minor": 5
}
