{
 "cells": [
  {
   "cell_type": "code",
   "execution_count": 1,
   "id": "d3e78a8e-574c-41f2-a8b3-6119b22ae89f",
   "metadata": {},
   "outputs": [
    {
     "name": "stdout",
     "output_type": "stream",
     "text": [
      ".Q..\n",
      "...Q\n",
      "Q...\n",
      "..Q.\n",
      "\n",
      "..Q.\n",
      "Q...\n",
      "...Q\n",
      ".Q..\n",
      "\n"
     ]
    }
   ],
   "source": [
    "def solve_n_queens(n):\n",
    "    def is_safe(board, row, col):\n",
    "        for i in range(row):\n",
    "            if board[i] == col or abs(board[i] - col) == abs(i - row):\n",
    "                return False\n",
    "        return True\n",
    "\n",
    "    def backtrack(board, row, solutions):\n",
    "        if row == n:\n",
    "            solutions.append([\".\" * c + \"Q\" + \".\" * (n - c - 1) for c in board])\n",
    "            return\n",
    "\n",
    "        for col in range(n):\n",
    "            if is_safe(board, row, col):\n",
    "                board[row] = col\n",
    "                backtrack(board, row + 1, solutions)\n",
    "\n",
    "    solutions = []\n",
    "    backtrack([-1] * n, 0, solutions)\n",
    "    return solutions\n",
    "\n",
    "\n",
    "n = 4\n",
    "solutions = solve_n_queens(n)\n",
    "for sol in solutions:\n",
    "    print(\"\\n\".join(sol), end=\"\\n\\n\")"
   ]
  },
  {
   "cell_type": "code",
   "execution_count": 2,
   "id": "9a974df7-4a50-4cfa-aeb4-09cd08f06f04",
   "metadata": {},
   "outputs": [
    {
     "name": "stdout",
     "output_type": "stream",
     "text": [
      "['ABC', 'ACB', 'BAC', 'BCA', 'CBA', 'CAB']\n"
     ]
    }
   ],
   "source": [
    "def permute(string):\n",
    "    def backtrack(start, current):\n",
    "        if start == len(string):\n",
    "            permutations.append(\"\".join(current))\n",
    "            return\n",
    "        \n",
    "        for i in range(start, len(string)):\n",
    "            current[start], current[i] = current[i], current[start]\n",
    "            backtrack(start + 1, current)\n",
    "            current[start], current[i] = current[i], current[start]\n",
    "\n",
    "    permutations = []\n",
    "    backtrack(0, list(string))\n",
    "    return permutations\n",
    "\n",
    "print(permute(\"ABC\"))"
   ]
  },
  {
   "cell_type": "code",
   "execution_count": 3,
   "id": "4341c72d-249b-49c5-b4b0-87a72573080d",
   "metadata": {},
   "outputs": [
    {
     "name": "stdout",
     "output_type": "stream",
     "text": [
      "Solved Sudoku Board:\n",
      "[5, 3, 4, 6, 7, 8, 9, 1, 2]\n",
      "[6, 7, 2, 1, 9, 5, 3, 4, 8]\n",
      "[1, 9, 8, 3, 4, 2, 5, 6, 7]\n",
      "[8, 5, 9, 7, 6, 1, 4, 2, 3]\n",
      "[4, 2, 6, 8, 5, 3, 7, 9, 1]\n",
      "[7, 1, 3, 9, 2, 4, 8, 5, 6]\n",
      "[9, 6, 1, 5, 3, 7, 2, 8, 4]\n",
      "[2, 8, 7, 4, 1, 9, 6, 3, 5]\n",
      "[3, 4, 5, 2, 8, 6, 1, 7, 9]\n"
     ]
    }
   ],
   "source": [
    "def is_valid(board, row, col, num):\n",
    "    for i in range(9):\n",
    "        if board[row][i] == num or board[i][col] == num:\n",
    "            return False\n",
    "    box_row, box_col = row // 3 * 3, col // 3 * 3\n",
    "    for i in range(3):\n",
    "        for j in range(3):\n",
    "            if board[box_row + i][box_col + j] == num:\n",
    "                return False\n",
    "    return True\n",
    "\n",
    "def solve_sudoku(board):\n",
    "    for row in range(9):\n",
    "        for col in range(9):\n",
    "            if board[row][col] == 0:\n",
    "                for num in range(1, 10):\n",
    "                    if is_valid(board, row, col, num):\n",
    "                        board[row][col] = num\n",
    "                        if solve_sudoku(board):\n",
    "                            return True\n",
    "                        board[row][col] = 0\n",
    "                return False\n",
    "    return True\n",
    "\n",
    "def display_board(board):\n",
    "    for row in board:\n",
    "        print(row)\n",
    "\n",
    "sudoku_board = [\n",
    "    [5, 3, 0, 0, 7, 0, 0, 0, 0],\n",
    "    [6, 0, 0, 1, 9, 5, 0, 0, 0],\n",
    "    [0, 9, 8, 0, 0, 0, 0, 6, 0],\n",
    "    [8, 0, 0, 0, 6, 0, 0, 0, 3],\n",
    "    [4, 0, 0, 8, 0, 3, 0, 0, 1],\n",
    "    [7, 0, 0, 0, 2, 0, 0, 0, 6],\n",
    "    [0, 6, 0, 0, 0, 0, 2, 8, 0],\n",
    "    [0, 0, 0, 4, 1, 9, 0, 0, 5],\n",
    "    [0, 0, 0, 0, 8, 0, 0, 7, 9]\n",
    "]\n",
    "\n",
    "if solve_sudoku(sudoku_board):\n",
    "    print(\"Solved Sudoku Board:\")\n",
    "    display_board(sudoku_board)\n",
    "else:\n",
    "    print(\"No solution exists.\")"
   ]
  },
  {
   "cell_type": "code",
   "execution_count": null,
   "id": "1e69bc8b-fc89-4c8c-b824-5686423e0581",
   "metadata": {},
   "outputs": [],
   "source": []
  }
 ],
 "metadata": {
  "kernelspec": {
   "display_name": "Python 3 (ipykernel)",
   "language": "python",
   "name": "python3"
  },
  "language_info": {
   "codemirror_mode": {
    "name": "ipython",
    "version": 3
   },
   "file_extension": ".py",
   "mimetype": "text/x-python",
   "name": "python",
   "nbconvert_exporter": "python",
   "pygments_lexer": "ipython3",
   "version": "3.11.7"
  }
 },
 "nbformat": 4,
 "nbformat_minor": 5
}
